{
 "metadata": {
  "language_info": {
   "codemirror_mode": {
    "name": "ipython",
    "version": 3
   },
   "file_extension": ".py",
   "mimetype": "text/x-python",
   "name": "python",
   "nbconvert_exporter": "python",
   "pygments_lexer": "ipython3",
   "version": "3.7.9"
  },
  "orig_nbformat": 2,
  "kernelspec": {
   "name": "python3",
   "display_name": "Python 3.7.9 64-bit ('PythonData': conda)",
   "metadata": {
    "interpreter": {
     "hash": "31d866ba9408c66a2d1e62f13983a727a1b1eccc2f4652b2b3738f6dcbbce8dc"
    }
   }
  }
 },
 "nbformat": 4,
 "nbformat_minor": 2,
 "cells": [
  {
   "cell_type": "code",
   "execution_count": 1,
   "metadata": {},
   "outputs": [],
   "source": [
    "# Import the random module\n",
    "import random"
   ]
  },
  {
   "cell_type": "code",
   "execution_count": 2,
   "metadata": {},
   "outputs": [
    {
     "output_type": "execute_result",
     "data": {
      "text/plain": [
       "39"
      ]
     },
     "metadata": {},
     "execution_count": 2
    }
   ],
   "source": [
    "random.randint(-90, 90)"
   ]
  },
  {
   "cell_type": "code",
   "execution_count": 3,
   "metadata": {},
   "outputs": [
    {
     "output_type": "execute_result",
     "data": {
      "text/plain": [
       "0.22352381876445704"
      ]
     },
     "metadata": {},
     "execution_count": 3
    }
   ],
   "source": [
    "random.random()"
   ]
  },
  {
   "cell_type": "code",
   "execution_count": 5,
   "metadata": {},
   "outputs": [
    {
     "output_type": "execute_result",
     "data": {
      "text/plain": [
       "[39.58851163920072,\n",
       " 46.04779549677027,\n",
       " -36.76798882981153,\n",
       " 39.60275624777157,\n",
       " -8.418408803632204,\n",
       " 72.20747531522662,\n",
       " -75.37575765669247,\n",
       " 58.55740464555158,\n",
       " 70.52424174062341,\n",
       " -76.39735136686207]"
      ]
     },
     "metadata": {},
     "execution_count": 5
    }
   ],
   "source": [
    "x = 1\n",
    "latitudes = []\n",
    "while x < 11:\n",
    "    random_lat = random.randint(-90, 89) + random.random()\n",
    "    latitudes.append(random_lat)\n",
    "    x += 1\n",
    "latitudes"
   ]
  },
  {
   "cell_type": "code",
   "execution_count": 6,
   "metadata": {},
   "outputs": [
    {
     "output_type": "execute_result",
     "data": {
      "text/plain": [
       "75"
      ]
     },
     "metadata": {},
     "execution_count": 6
    }
   ],
   "source": [
    "random.randrange(-90, 90, step=3)"
   ]
  },
  {
   "cell_type": "code",
   "execution_count": 7,
   "metadata": {},
   "outputs": [
    {
     "output_type": "execute_result",
     "data": {
      "text/plain": [
       "23.316234190480515"
      ]
     },
     "metadata": {},
     "execution_count": 7
    }
   ],
   "source": [
    "random.uniform(-90,90)"
   ]
  },
  {
   "cell_type": "code",
   "execution_count": 8,
   "metadata": {},
   "outputs": [],
   "source": [
    "# Import the numpy module\n",
    "import numpy as np"
   ]
  },
  {
   "cell_type": "code",
   "execution_count": 10,
   "metadata": {},
   "outputs": [
    {
     "output_type": "execute_result",
     "data": {
      "text/plain": [
       "array([-2.18490885e+01,  6.48032437e+01, -3.36465521e+01, -3.20887187e+01,\n",
       "        8.72728110e+01,  5.89170460e+00, -6.26356254e+01,  5.82780628e+01,\n",
       "        1.47687592e+01,  8.51939702e+01, -2.46983765e+01,  2.27754503e+01,\n",
       "       -9.43173532e+00, -5.58602020e+01, -1.67424406e+01, -3.98158307e+01,\n",
       "        8.32109465e+01, -8.54524327e+00, -5.91213026e+01,  2.81814472e+01,\n",
       "        4.21474170e+01,  1.45148163e+01, -7.25351405e+01,  2.06351430e+01,\n",
       "       -1.54834697e+00, -3.44254620e+01,  1.66311420e+01,  3.55587001e+01,\n",
       "       -5.36898736e+01, -7.27750407e+01,  2.53020392e+01,  1.98781027e+01,\n",
       "       -9.92997791e+00,  8.87321166e+01, -7.14102476e+01,  3.12928372e+01,\n",
       "       -8.98830765e+00, -8.29467179e+01, -4.39582647e+01,  2.47183016e+01,\n",
       "        8.32191715e+01,  3.75237995e+01,  6.63514023e+00, -3.69079683e+01,\n",
       "        3.95674124e+01, -7.25654005e+01,  8.05915039e+01, -8.42492104e+01,\n",
       "        8.13681844e-02,  8.25407592e+01])"
      ]
     },
     "metadata": {},
     "execution_count": 10
    }
   ],
   "source": [
    "np.random.uniform(-90.000, 90.000, size=50)"
   ]
  },
  {
   "cell_type": "code",
   "execution_count": 11,
   "metadata": {},
   "outputs": [],
   "source": [
    "# Import timeit.\n",
    "import timeit"
   ]
  },
  {
   "cell_type": "code",
   "execution_count": 12,
   "metadata": {},
   "outputs": [
    {
     "output_type": "stream",
     "name": "stdout",
     "text": [
      "13.6 µs ± 313 ns per loop (mean ± std. dev. of 7 runs, 100000 loops each)\n"
     ]
    }
   ],
   "source": [
    "%timeit np.random.uniform(-90.000, 90.000, size=1500)"
   ]
  },
  {
   "cell_type": "code",
   "execution_count": 13,
   "metadata": {},
   "outputs": [
    {
     "output_type": "stream",
     "name": "stdout",
     "text": [
      "1.72 ms ± 128 µs per loop (mean ± std. dev. of 7 runs, 1000 loops each)\n"
     ]
    }
   ],
   "source": [
    "def latitudes(size):\n",
    "    latitudes = []\n",
    "    x = 0\n",
    "    while x < (size):\n",
    "        random_lat = random.randint(-90, 90) + random.random()\n",
    "        latitudes.append(random_lat)\n",
    "        x += 1\n",
    "    return latitudes\n",
    "# Call the function with 1500.\n",
    "%timeit latitudes(1500)"
   ]
  },
  {
   "cell_type": "code",
   "execution_count": null,
   "metadata": {},
   "outputs": [],
   "source": []
  }
 ]
}