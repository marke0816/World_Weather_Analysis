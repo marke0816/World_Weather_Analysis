{
 "metadata": {
  "language_info": {
   "codemirror_mode": {
    "name": "ipython",
    "version": 3
   },
   "file_extension": ".py",
   "mimetype": "text/x-python",
   "name": "python",
   "nbconvert_exporter": "python",
   "pygments_lexer": "ipython3",
   "version": "3.7.9"
  },
  "orig_nbformat": 2,
  "kernelspec": {
   "name": "python3",
   "display_name": "Python 3.7.9 64-bit ('PythonData': conda)",
   "metadata": {
    "interpreter": {
     "hash": "31d866ba9408c66a2d1e62f13983a727a1b1eccc2f4652b2b3738f6dcbbce8dc"
    }
   }
  }
 },
 "nbformat": 4,
 "nbformat_minor": 2,
 "cells": [
  {
   "cell_type": "code",
   "execution_count": 1,
   "metadata": {},
   "outputs": [],
   "source": [
    "# Import the dependencies.\n",
    "import pandas as pd\n",
    "import gmaps\n",
    "import requests\n",
    "# Import the API key.\n",
    "from config import g_key"
   ]
  },
  {
   "cell_type": "code",
   "execution_count": 2,
   "metadata": {},
   "outputs": [
    {
     "output_type": "execute_result",
     "data": {
      "text/plain": [
       "   City_ID            City Country                 Date      Lat       Lng  \\\n",
       "0        0       Upernavik      GL  2021-03-29 19:51:05  72.7868  -56.1549   \n",
       "1        1      Toora-Khem      RU  2021-03-29 19:51:06  52.4675   96.1100   \n",
       "2        2  Saint-Philippe      RE  2021-03-29 19:51:06 -21.3585   55.7679   \n",
       "3        3        Karratha      AU  2021-03-29 19:51:06 -20.7377  116.8463   \n",
       "4        4       Sahuaripa      MX  2021-03-29 19:51:07  29.0500 -109.2333   \n",
       "\n",
       "   Max Temp  Humidity  Cloudiness  Wind Speed  \n",
       "0     -0.18        69         100        7.14  \n",
       "1     26.15        96          95        4.21  \n",
       "2     77.00        78           0        4.61  \n",
       "3     87.84        41          35        6.87  \n",
       "4     90.72         9         100        5.23  "
      ],
      "text/html": "<div>\n<style scoped>\n    .dataframe tbody tr th:only-of-type {\n        vertical-align: middle;\n    }\n\n    .dataframe tbody tr th {\n        vertical-align: top;\n    }\n\n    .dataframe thead th {\n        text-align: right;\n    }\n</style>\n<table border=\"1\" class=\"dataframe\">\n  <thead>\n    <tr style=\"text-align: right;\">\n      <th></th>\n      <th>City_ID</th>\n      <th>City</th>\n      <th>Country</th>\n      <th>Date</th>\n      <th>Lat</th>\n      <th>Lng</th>\n      <th>Max Temp</th>\n      <th>Humidity</th>\n      <th>Cloudiness</th>\n      <th>Wind Speed</th>\n    </tr>\n  </thead>\n  <tbody>\n    <tr>\n      <th>0</th>\n      <td>0</td>\n      <td>Upernavik</td>\n      <td>GL</td>\n      <td>2021-03-29 19:51:05</td>\n      <td>72.7868</td>\n      <td>-56.1549</td>\n      <td>-0.18</td>\n      <td>69</td>\n      <td>100</td>\n      <td>7.14</td>\n    </tr>\n    <tr>\n      <th>1</th>\n      <td>1</td>\n      <td>Toora-Khem</td>\n      <td>RU</td>\n      <td>2021-03-29 19:51:06</td>\n      <td>52.4675</td>\n      <td>96.1100</td>\n      <td>26.15</td>\n      <td>96</td>\n      <td>95</td>\n      <td>4.21</td>\n    </tr>\n    <tr>\n      <th>2</th>\n      <td>2</td>\n      <td>Saint-Philippe</td>\n      <td>RE</td>\n      <td>2021-03-29 19:51:06</td>\n      <td>-21.3585</td>\n      <td>55.7679</td>\n      <td>77.00</td>\n      <td>78</td>\n      <td>0</td>\n      <td>4.61</td>\n    </tr>\n    <tr>\n      <th>3</th>\n      <td>3</td>\n      <td>Karratha</td>\n      <td>AU</td>\n      <td>2021-03-29 19:51:06</td>\n      <td>-20.7377</td>\n      <td>116.8463</td>\n      <td>87.84</td>\n      <td>41</td>\n      <td>35</td>\n      <td>6.87</td>\n    </tr>\n    <tr>\n      <th>4</th>\n      <td>4</td>\n      <td>Sahuaripa</td>\n      <td>MX</td>\n      <td>2021-03-29 19:51:07</td>\n      <td>29.0500</td>\n      <td>-109.2333</td>\n      <td>90.72</td>\n      <td>9</td>\n      <td>100</td>\n      <td>5.23</td>\n    </tr>\n  </tbody>\n</table>\n</div>"
     },
     "metadata": {},
     "execution_count": 2
    }
   ],
   "source": [
    "# Store the CSV you saved created in part one into a DataFrame.\n",
    "city_data_df = pd.read_csv(\"weather_data/cities.csv\")\n",
    "city_data_df.head()"
   ]
  },
  {
   "cell_type": "code",
   "execution_count": 3,
   "metadata": {},
   "outputs": [
    {
     "output_type": "execute_result",
     "data": {
      "text/plain": [
       "City_ID         int64\n",
       "City           object\n",
       "Country        object\n",
       "Date           object\n",
       "Lat           float64\n",
       "Lng           float64\n",
       "Max Temp      float64\n",
       "Humidity        int64\n",
       "Cloudiness      int64\n",
       "Wind Speed    float64\n",
       "dtype: object"
      ]
     },
     "metadata": {},
     "execution_count": 3
    }
   ],
   "source": [
    "# Get the data types\n",
    "city_data_df.dtypes"
   ]
  },
  {
   "cell_type": "code",
   "execution_count": 4,
   "metadata": {},
   "outputs": [],
   "source": [
    "# Configure gmaps to use your Google API key.\n",
    "gmaps.configure(api_key=g_key)"
   ]
  },
  {
   "cell_type": "code",
   "execution_count": 8,
   "metadata": {},
   "outputs": [],
   "source": [
    "# Get the maximum temperature.\n",
    "max_temp = city_data_df[\"Max Temp\"]\n",
    "temps = []\n",
    "for temp in max_temp:\n",
    "    temps.append(max(temp, 0))"
   ]
  },
  {
   "cell_type": "code",
   "execution_count": 12,
   "metadata": {},
   "outputs": [
    {
     "output_type": "display_data",
     "data": {
      "text/plain": "Figure(layout=FigureLayout(height='420px'))",
      "application/vnd.jupyter.widget-view+json": {
       "version_major": 2,
       "version_minor": 0,
       "model_id": "1fe365401298456e99fcfe4cd573f1f7"
      }
     },
     "metadata": {}
    }
   ],
   "source": [
    "# Heatmap of temperature\n",
    "# Get the latitude and longitude.\n",
    "locations = city_data_df[[\"Lat\", \"Lng\"]]\n",
    "# Get the maximum temperature.\n",
    "max_temp = city_data_df[\"Max Temp\"]\n",
    "# Assign the figure variable.\n",
    "fig = gmaps.figure(center=(30.0, 31.0), zoom_level=1.5)\n",
    "# Assign the heatmap variable.\n",
    "heat_layer = gmaps.heatmap_layer(locations, weights=temps, dissipating=False, max_intensity=300, point_radius=4)\n",
    "# Add the heatmap layer.\n",
    "fig.add_layer(heat_layer)\n",
    "# Call the figure to plot the data.\n",
    "fig"
   ]
  },
  {
   "cell_type": "code",
   "execution_count": 13,
   "metadata": {},
   "outputs": [
    {
     "output_type": "display_data",
     "data": {
      "text/plain": "Figure(layout=FigureLayout(height='420px'))",
      "application/vnd.jupyter.widget-view+json": {
       "version_major": 2,
       "version_minor": 0,
       "model_id": "f1ecbc638b0b44d3907dea837a3cee65"
      }
     },
     "metadata": {}
    }
   ],
   "source": [
    "# Heatmap of percent humidity\n",
    "locations = city_data_df[[\"Lat\", \"Lng\"]]\n",
    "humidity = city_data_df[\"Humidity\"]\n",
    "fig = gmaps.figure(center=(30.0, 31.0), zoom_level=1.5)\n",
    "heat_layer = gmaps.heatmap_layer(locations, weights=humidity, dissipating=False, max_intensity=300, point_radius=4)\n",
    "\n",
    "fig.add_layer(heat_layer)\n",
    "# Call the figure to plot the data.\n",
    "fig"
   ]
  },
  {
   "cell_type": "code",
   "execution_count": 14,
   "metadata": {},
   "outputs": [
    {
     "output_type": "display_data",
     "data": {
      "text/plain": "Figure(layout=FigureLayout(height='420px'))",
      "application/vnd.jupyter.widget-view+json": {
       "version_major": 2,
       "version_minor": 0,
       "model_id": "7544894cfd034a9fa46e13f037e13424"
      }
     },
     "metadata": {}
    }
   ],
   "source": [
    "# Heatmap of percent cloudiness\n",
    "locations = city_data_df[[\"Lat\", \"Lng\"]]\n",
    "cloudiness = city_data_df[\"Cloudiness\"]\n",
    "fig = gmaps.figure(center=(30.0, 31.0), zoom_level=1.5)\n",
    "heat_layer = gmaps.heatmap_layer(locations, weights=cloudiness, dissipating=False, max_intensity=300, point_radius=4)\n",
    "\n",
    "fig.add_layer(heat_layer)\n",
    "# Call the figure to plot the data.\n",
    "fig"
   ]
  },
  {
   "cell_type": "code",
   "execution_count": 15,
   "metadata": {},
   "outputs": [
    {
     "output_type": "display_data",
     "data": {
      "text/plain": "Figure(layout=FigureLayout(height='420px'))",
      "application/vnd.jupyter.widget-view+json": {
       "version_major": 2,
       "version_minor": 0,
       "model_id": "5ebd4a014fec48c0a3f5098c644d5688"
      }
     },
     "metadata": {}
    }
   ],
   "source": [
    "# Heatmap of wind speed\n",
    "locations = city_data_df[[\"Lat\", \"Lng\"]]\n",
    "wind = city_data_df[\"Wind Speed\"]\n",
    "fig = gmaps.figure(center=(30.0, 31.0), zoom_level=1.5)\n",
    "heat_layer = gmaps.heatmap_layer(locations, weights=wind, dissipating=False, max_intensity=300, point_radius=4)\n",
    "\n",
    "fig.add_layer(heat_layer)\n",
    "# Call the figure to plot the data.\n",
    "fig"
   ]
  },
  {
   "cell_type": "code",
   "execution_count": 18,
   "metadata": {},
   "outputs": [],
   "source": [
    "# Ask the customer to add a minimum and maximum temperature value.\n",
    "min_temp = float(input(\"What is the minimum temperature you would like for your trip? \"))\n",
    "max_temp = float(input(\"What is the maximum temperature you would like for your trip? \"))"
   ]
  },
  {
   "cell_type": "code",
   "execution_count": 19,
   "metadata": {},
   "outputs": [
    {
     "output_type": "execute_result",
     "data": {
      "text/plain": [
       "    City_ID            City Country                 Date      Lat       Lng  \\\n",
       "2         2  Saint-Philippe      RE  2021-03-29 19:51:06 -21.3585   55.7679   \n",
       "3         3        Karratha      AU  2021-03-29 19:51:06 -20.7377  116.8463   \n",
       "7         7       Sinnamary      GF  2021-03-29 19:51:08   5.3833  -52.9500   \n",
       "9         9          Luanda      AO  2021-03-29 19:51:08  -8.8368   13.2343   \n",
       "13       13         Rikitea      PF  2021-03-29 19:51:10 -23.1203 -134.9692   \n",
       "16       16          Pyapon      MM  2021-03-29 19:51:11  16.2833   95.6833   \n",
       "22       22          Avarua      CK  2021-03-29 19:51:13 -21.2078 -159.7750   \n",
       "27       27    Puerto Ayora      EC  2021-03-29 19:51:15  -0.7393  -90.3518   \n",
       "28       28        Cidreira      BR  2021-03-29 19:51:15 -30.1811  -50.2056   \n",
       "33       33  Ciudad Bolivar      VE  2021-03-29 19:51:17   8.1222  -63.5497   \n",
       "\n",
       "    Max Temp  Humidity  Cloudiness  Wind Speed  \n",
       "2      77.00        78           0        4.61  \n",
       "3      87.84        41          35        6.87  \n",
       "7      79.14        85          81       14.32  \n",
       "9      80.60        78          20        6.91  \n",
       "13     79.36        69          28       16.60  \n",
       "16     78.75        65          99        8.75  \n",
       "22     80.60        83          75       13.80  \n",
       "27     82.40        78          20       11.50  \n",
       "28     77.25        53           2        9.33  \n",
       "33     89.87        42         100       13.89  "
      ],
      "text/html": "<div>\n<style scoped>\n    .dataframe tbody tr th:only-of-type {\n        vertical-align: middle;\n    }\n\n    .dataframe tbody tr th {\n        vertical-align: top;\n    }\n\n    .dataframe thead th {\n        text-align: right;\n    }\n</style>\n<table border=\"1\" class=\"dataframe\">\n  <thead>\n    <tr style=\"text-align: right;\">\n      <th></th>\n      <th>City_ID</th>\n      <th>City</th>\n      <th>Country</th>\n      <th>Date</th>\n      <th>Lat</th>\n      <th>Lng</th>\n      <th>Max Temp</th>\n      <th>Humidity</th>\n      <th>Cloudiness</th>\n      <th>Wind Speed</th>\n    </tr>\n  </thead>\n  <tbody>\n    <tr>\n      <th>2</th>\n      <td>2</td>\n      <td>Saint-Philippe</td>\n      <td>RE</td>\n      <td>2021-03-29 19:51:06</td>\n      <td>-21.3585</td>\n      <td>55.7679</td>\n      <td>77.00</td>\n      <td>78</td>\n      <td>0</td>\n      <td>4.61</td>\n    </tr>\n    <tr>\n      <th>3</th>\n      <td>3</td>\n      <td>Karratha</td>\n      <td>AU</td>\n      <td>2021-03-29 19:51:06</td>\n      <td>-20.7377</td>\n      <td>116.8463</td>\n      <td>87.84</td>\n      <td>41</td>\n      <td>35</td>\n      <td>6.87</td>\n    </tr>\n    <tr>\n      <th>7</th>\n      <td>7</td>\n      <td>Sinnamary</td>\n      <td>GF</td>\n      <td>2021-03-29 19:51:08</td>\n      <td>5.3833</td>\n      <td>-52.9500</td>\n      <td>79.14</td>\n      <td>85</td>\n      <td>81</td>\n      <td>14.32</td>\n    </tr>\n    <tr>\n      <th>9</th>\n      <td>9</td>\n      <td>Luanda</td>\n      <td>AO</td>\n      <td>2021-03-29 19:51:08</td>\n      <td>-8.8368</td>\n      <td>13.2343</td>\n      <td>80.60</td>\n      <td>78</td>\n      <td>20</td>\n      <td>6.91</td>\n    </tr>\n    <tr>\n      <th>13</th>\n      <td>13</td>\n      <td>Rikitea</td>\n      <td>PF</td>\n      <td>2021-03-29 19:51:10</td>\n      <td>-23.1203</td>\n      <td>-134.9692</td>\n      <td>79.36</td>\n      <td>69</td>\n      <td>28</td>\n      <td>16.60</td>\n    </tr>\n    <tr>\n      <th>16</th>\n      <td>16</td>\n      <td>Pyapon</td>\n      <td>MM</td>\n      <td>2021-03-29 19:51:11</td>\n      <td>16.2833</td>\n      <td>95.6833</td>\n      <td>78.75</td>\n      <td>65</td>\n      <td>99</td>\n      <td>8.75</td>\n    </tr>\n    <tr>\n      <th>22</th>\n      <td>22</td>\n      <td>Avarua</td>\n      <td>CK</td>\n      <td>2021-03-29 19:51:13</td>\n      <td>-21.2078</td>\n      <td>-159.7750</td>\n      <td>80.60</td>\n      <td>83</td>\n      <td>75</td>\n      <td>13.80</td>\n    </tr>\n    <tr>\n      <th>27</th>\n      <td>27</td>\n      <td>Puerto Ayora</td>\n      <td>EC</td>\n      <td>2021-03-29 19:51:15</td>\n      <td>-0.7393</td>\n      <td>-90.3518</td>\n      <td>82.40</td>\n      <td>78</td>\n      <td>20</td>\n      <td>11.50</td>\n    </tr>\n    <tr>\n      <th>28</th>\n      <td>28</td>\n      <td>Cidreira</td>\n      <td>BR</td>\n      <td>2021-03-29 19:51:15</td>\n      <td>-30.1811</td>\n      <td>-50.2056</td>\n      <td>77.25</td>\n      <td>53</td>\n      <td>2</td>\n      <td>9.33</td>\n    </tr>\n    <tr>\n      <th>33</th>\n      <td>33</td>\n      <td>Ciudad Bolivar</td>\n      <td>VE</td>\n      <td>2021-03-29 19:51:17</td>\n      <td>8.1222</td>\n      <td>-63.5497</td>\n      <td>89.87</td>\n      <td>42</td>\n      <td>100</td>\n      <td>13.89</td>\n    </tr>\n  </tbody>\n</table>\n</div>"
     },
     "metadata": {},
     "execution_count": 19
    }
   ],
   "source": [
    "# Filter the dataset to find the cities that fit the criteria.\n",
    "preferred_cities_df = city_data_df.loc[(city_data_df[\"Max Temp\"] <= max_temp) & \\\n",
    "                                       (city_data_df[\"Max Temp\"] >= min_temp)]\n",
    "preferred_cities_df.head(10)"
   ]
  },
  {
   "cell_type": "code",
   "execution_count": 20,
   "metadata": {},
   "outputs": [
    {
     "output_type": "execute_result",
     "data": {
      "text/plain": [
       "City_ID       204\n",
       "City          204\n",
       "Country       202\n",
       "Date          204\n",
       "Lat           204\n",
       "Lng           204\n",
       "Max Temp      204\n",
       "Humidity      204\n",
       "Cloudiness    204\n",
       "Wind Speed    204\n",
       "dtype: int64"
      ]
     },
     "metadata": {},
     "execution_count": 20
    }
   ],
   "source": [
    "preferred_cities_df.count()"
   ]
  },
  {
   "cell_type": "code",
   "execution_count": 21,
   "metadata": {},
   "outputs": [
    {
     "output_type": "execute_result",
     "data": {
      "text/plain": [
       "              City Country  Max Temp      Lat       Lng Hotel Name\n",
       "2   Saint-Philippe      RE     77.00 -21.3585   55.7679           \n",
       "3         Karratha      AU     87.84 -20.7377  116.8463           \n",
       "7        Sinnamary      GF     79.14   5.3833  -52.9500           \n",
       "9           Luanda      AO     80.60  -8.8368   13.2343           \n",
       "13         Rikitea      PF     79.36 -23.1203 -134.9692           \n",
       "16          Pyapon      MM     78.75  16.2833   95.6833           \n",
       "22          Avarua      CK     80.60 -21.2078 -159.7750           \n",
       "27    Puerto Ayora      EC     82.40  -0.7393  -90.3518           \n",
       "28        Cidreira      BR     77.25 -30.1811  -50.2056           \n",
       "33  Ciudad Bolivar      VE     89.87   8.1222  -63.5497           "
      ],
      "text/html": "<div>\n<style scoped>\n    .dataframe tbody tr th:only-of-type {\n        vertical-align: middle;\n    }\n\n    .dataframe tbody tr th {\n        vertical-align: top;\n    }\n\n    .dataframe thead th {\n        text-align: right;\n    }\n</style>\n<table border=\"1\" class=\"dataframe\">\n  <thead>\n    <tr style=\"text-align: right;\">\n      <th></th>\n      <th>City</th>\n      <th>Country</th>\n      <th>Max Temp</th>\n      <th>Lat</th>\n      <th>Lng</th>\n      <th>Hotel Name</th>\n    </tr>\n  </thead>\n  <tbody>\n    <tr>\n      <th>2</th>\n      <td>Saint-Philippe</td>\n      <td>RE</td>\n      <td>77.00</td>\n      <td>-21.3585</td>\n      <td>55.7679</td>\n      <td></td>\n    </tr>\n    <tr>\n      <th>3</th>\n      <td>Karratha</td>\n      <td>AU</td>\n      <td>87.84</td>\n      <td>-20.7377</td>\n      <td>116.8463</td>\n      <td></td>\n    </tr>\n    <tr>\n      <th>7</th>\n      <td>Sinnamary</td>\n      <td>GF</td>\n      <td>79.14</td>\n      <td>5.3833</td>\n      <td>-52.9500</td>\n      <td></td>\n    </tr>\n    <tr>\n      <th>9</th>\n      <td>Luanda</td>\n      <td>AO</td>\n      <td>80.60</td>\n      <td>-8.8368</td>\n      <td>13.2343</td>\n      <td></td>\n    </tr>\n    <tr>\n      <th>13</th>\n      <td>Rikitea</td>\n      <td>PF</td>\n      <td>79.36</td>\n      <td>-23.1203</td>\n      <td>-134.9692</td>\n      <td></td>\n    </tr>\n    <tr>\n      <th>16</th>\n      <td>Pyapon</td>\n      <td>MM</td>\n      <td>78.75</td>\n      <td>16.2833</td>\n      <td>95.6833</td>\n      <td></td>\n    </tr>\n    <tr>\n      <th>22</th>\n      <td>Avarua</td>\n      <td>CK</td>\n      <td>80.60</td>\n      <td>-21.2078</td>\n      <td>-159.7750</td>\n      <td></td>\n    </tr>\n    <tr>\n      <th>27</th>\n      <td>Puerto Ayora</td>\n      <td>EC</td>\n      <td>82.40</td>\n      <td>-0.7393</td>\n      <td>-90.3518</td>\n      <td></td>\n    </tr>\n    <tr>\n      <th>28</th>\n      <td>Cidreira</td>\n      <td>BR</td>\n      <td>77.25</td>\n      <td>-30.1811</td>\n      <td>-50.2056</td>\n      <td></td>\n    </tr>\n    <tr>\n      <th>33</th>\n      <td>Ciudad Bolivar</td>\n      <td>VE</td>\n      <td>89.87</td>\n      <td>8.1222</td>\n      <td>-63.5497</td>\n      <td></td>\n    </tr>\n  </tbody>\n</table>\n</div>"
     },
     "metadata": {},
     "execution_count": 21
    }
   ],
   "source": [
    "# Create DataFrame called hotel_df to store hotel names along with city, country, max temp, and coordinates.\n",
    "hotel_df = preferred_cities_df[[\"City\", \"Country\", \"Max Temp\", \"Lat\", \"Lng\"]].copy()\n",
    "hotel_df[\"Hotel Name\"] = \"\"\n",
    "hotel_df.head(10)"
   ]
  },
  {
   "cell_type": "code",
   "execution_count": 22,
   "metadata": {},
   "outputs": [],
   "source": [
    "# Set parameters to search for a hotel.\n",
    "params = {\n",
    "    \"radius\": 5000,\n",
    "    \"type\": \"lodging\",\n",
    "    \"key\": g_key\n",
    "}"
   ]
  },
  {
   "cell_type": "code",
   "execution_count": 24,
   "metadata": {},
   "outputs": [
    {
     "output_type": "stream",
     "name": "stdout",
     "text": [
      "Hotel not found... skipping.\n",
      "Hotel not found... skipping.\n",
      "Hotel not found... skipping.\n",
      "Hotel not found... skipping.\n",
      "Hotel not found... skipping.\n",
      "Hotel not found... skipping.\n",
      "Hotel not found... skipping.\n",
      "Hotel not found... skipping.\n",
      "Hotel not found... skipping.\n",
      "Hotel not found... skipping.\n",
      "Hotel not found... skipping.\n"
     ]
    }
   ],
   "source": [
    "# Iterate through the DataFrame.\n",
    "for index, row in hotel_df.iterrows():\n",
    "    # Get the latitude and longitude.\n",
    "    lat = row[\"Lat\"]\n",
    "    lng = row[\"Lng\"]\n",
    "\n",
    "    # Add the latitude and longitude to location key for the params dictionary.\n",
    "    params[\"location\"] = f\"{lat},{lng}\"\n",
    "\n",
    "    # Use the search term: \"lodging\" and our latitude and longitude.\n",
    "    base_url = \"https://maps.googleapis.com/maps/api/place/nearbysearch/json\"\n",
    "    # Make request and get the JSON data from the search.\n",
    "    hotels = requests.get(base_url, params=params).json()\n",
    "    # Grab the first hotel from the results and store the name.\n",
    "    try:\n",
    "        hotel_df.loc[index, \"Hotel Name\"] = hotels[\"results\"][0][\"name\"]\n",
    "    except (IndexError):\n",
    "        print(\"Hotel not found... skipping.\")"
   ]
  },
  {
   "cell_type": "code",
   "execution_count": 25,
   "metadata": {},
   "outputs": [
    {
     "output_type": "execute_result",
     "data": {
      "text/plain": [
       "              City Country  Max Temp      Lat       Lng  \\\n",
       "2   Saint-Philippe      RE     77.00 -21.3585   55.7679   \n",
       "3         Karratha      AU     87.84 -20.7377  116.8463   \n",
       "7        Sinnamary      GF     79.14   5.3833  -52.9500   \n",
       "9           Luanda      AO     80.60  -8.8368   13.2343   \n",
       "13         Rikitea      PF     79.36 -23.1203 -134.9692   \n",
       "16          Pyapon      MM     78.75  16.2833   95.6833   \n",
       "22          Avarua      CK     80.60 -21.2078 -159.7750   \n",
       "27    Puerto Ayora      EC     82.40  -0.7393  -90.3518   \n",
       "28        Cidreira      BR     77.25 -30.1811  -50.2056   \n",
       "33  Ciudad Bolivar      VE     89.87   8.1222  -63.5497   \n",
       "\n",
       "                        Hotel Name  \n",
       "2     Chambres d'hôte \"La Trinité\"  \n",
       "3             ibis Styles Karratha  \n",
       "7   ALETHEIA Appartement Sinnamary  \n",
       "9     LANDU MARINEZA LUFUANDU TONI  \n",
       "13                  Pension Maro'i  \n",
       "16            Aung Naing Thu Motel  \n",
       "22                    Paradise Inn  \n",
       "27       Finch Bay Galapagos Hotel  \n",
       "28                   Hotel Castelo  \n",
       "33                       Hotel Edi  "
      ],
      "text/html": "<div>\n<style scoped>\n    .dataframe tbody tr th:only-of-type {\n        vertical-align: middle;\n    }\n\n    .dataframe tbody tr th {\n        vertical-align: top;\n    }\n\n    .dataframe thead th {\n        text-align: right;\n    }\n</style>\n<table border=\"1\" class=\"dataframe\">\n  <thead>\n    <tr style=\"text-align: right;\">\n      <th></th>\n      <th>City</th>\n      <th>Country</th>\n      <th>Max Temp</th>\n      <th>Lat</th>\n      <th>Lng</th>\n      <th>Hotel Name</th>\n    </tr>\n  </thead>\n  <tbody>\n    <tr>\n      <th>2</th>\n      <td>Saint-Philippe</td>\n      <td>RE</td>\n      <td>77.00</td>\n      <td>-21.3585</td>\n      <td>55.7679</td>\n      <td>Chambres d'hôte \"La Trinité\"</td>\n    </tr>\n    <tr>\n      <th>3</th>\n      <td>Karratha</td>\n      <td>AU</td>\n      <td>87.84</td>\n      <td>-20.7377</td>\n      <td>116.8463</td>\n      <td>ibis Styles Karratha</td>\n    </tr>\n    <tr>\n      <th>7</th>\n      <td>Sinnamary</td>\n      <td>GF</td>\n      <td>79.14</td>\n      <td>5.3833</td>\n      <td>-52.9500</td>\n      <td>ALETHEIA Appartement Sinnamary</td>\n    </tr>\n    <tr>\n      <th>9</th>\n      <td>Luanda</td>\n      <td>AO</td>\n      <td>80.60</td>\n      <td>-8.8368</td>\n      <td>13.2343</td>\n      <td>LANDU MARINEZA LUFUANDU TONI</td>\n    </tr>\n    <tr>\n      <th>13</th>\n      <td>Rikitea</td>\n      <td>PF</td>\n      <td>79.36</td>\n      <td>-23.1203</td>\n      <td>-134.9692</td>\n      <td>Pension Maro'i</td>\n    </tr>\n    <tr>\n      <th>16</th>\n      <td>Pyapon</td>\n      <td>MM</td>\n      <td>78.75</td>\n      <td>16.2833</td>\n      <td>95.6833</td>\n      <td>Aung Naing Thu Motel</td>\n    </tr>\n    <tr>\n      <th>22</th>\n      <td>Avarua</td>\n      <td>CK</td>\n      <td>80.60</td>\n      <td>-21.2078</td>\n      <td>-159.7750</td>\n      <td>Paradise Inn</td>\n    </tr>\n    <tr>\n      <th>27</th>\n      <td>Puerto Ayora</td>\n      <td>EC</td>\n      <td>82.40</td>\n      <td>-0.7393</td>\n      <td>-90.3518</td>\n      <td>Finch Bay Galapagos Hotel</td>\n    </tr>\n    <tr>\n      <th>28</th>\n      <td>Cidreira</td>\n      <td>BR</td>\n      <td>77.25</td>\n      <td>-30.1811</td>\n      <td>-50.2056</td>\n      <td>Hotel Castelo</td>\n    </tr>\n    <tr>\n      <th>33</th>\n      <td>Ciudad Bolivar</td>\n      <td>VE</td>\n      <td>89.87</td>\n      <td>8.1222</td>\n      <td>-63.5497</td>\n      <td>Hotel Edi</td>\n    </tr>\n  </tbody>\n</table>\n</div>"
     },
     "metadata": {},
     "execution_count": 25
    }
   ],
   "source": [
    "hotel_df.head(10)"
   ]
  },
  {
   "cell_type": "code",
   "execution_count": 30,
   "metadata": {},
   "outputs": [
    {
     "output_type": "display_data",
     "data": {
      "text/plain": "Figure(layout=FigureLayout(height='420px'))",
      "application/vnd.jupyter.widget-view+json": {
       "version_major": 2,
       "version_minor": 0,
       "model_id": "c3ea4a51e5464daf9181c351978c1dcc"
      }
     },
     "metadata": {}
    }
   ],
   "source": [
    "info_box_template = \"\"\"\n",
    "<dl>\n",
    "<dt>Hotel Name</dt><dd>{Hotel Name}</dd>\n",
    "<dt>City</dt><dd>{City}</dd>\n",
    "<dt>Country</dt><dd>{Country}</dd>\n",
    "<dt>Max Temp</dt><dd>{Max Temp} °F</dd>\n",
    "</dl>\n",
    "\"\"\"\n",
    "# Store the DataFrame Row.\n",
    "hotel_info = [info_box_template.format(**row) for index, row in hotel_df.iterrows()]\n",
    "\n",
    "# Add a heatmap of temperature for the vacation spots.\n",
    "locations = hotel_df[[\"Lat\", \"Lng\"]]\n",
    "max_temp = hotel_df[\"Max Temp\"]\n",
    "fig = gmaps.figure(center=(30.0, 31.0), zoom_level=1.5)\n",
    "heat_layer = gmaps.heatmap_layer(locations, weights=max_temp, dissipating=False,\n",
    "             max_intensity=300, point_radius=4)\n",
    "\n",
    "marker_layer = gmaps.marker_layer(locations, info_box_content=hotel_info)\n",
    "fig.add_layer(heat_layer)\n",
    "fig.add_layer(marker_layer)\n",
    "# Call the figure to plot the data.\n",
    "fig"
   ]
  },
  {
   "cell_type": "code",
   "execution_count": null,
   "metadata": {},
   "outputs": [],
   "source": []
  }
 ]
}