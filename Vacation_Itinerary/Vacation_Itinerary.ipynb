{
 "cells": [
  {
   "cell_type": "markdown",
   "metadata": {},
   "source": [
    "## Deliverable 3. Create a Travel Itinerary Map."
   ]
  },
  {
   "cell_type": "code",
   "execution_count": 30,
   "metadata": {},
   "outputs": [],
   "source": [
    "# Dependencies and Setup\n",
    "import pandas as pd\n",
    "import requests\n",
    "import gmaps\n",
    "import gmaps.datasets\n",
    "\n",
    "# Import API key\n",
    "from config import g_key\n",
    "\n",
    "# Configure gmaps\n",
    "gmaps.configure(api_key=g_key)"
   ]
  },
  {
   "cell_type": "code",
   "execution_count": 6,
   "metadata": {},
   "outputs": [
    {
     "output_type": "execute_result",
     "data": {
      "text/plain": [
       "   City_ID            City Country  Max Temp Current Description      Lat  \\\n",
       "0        2          Kharan      PK     76.15           clear sky  28.5833   \n",
       "1        3      Balkanabat      TM     59.16          few clouds  39.5108   \n",
       "2        4       Jamestown      US     57.99           clear sky  42.0970   \n",
       "3        5         Florida      US     79.00    scattered clouds  28.7505   \n",
       "4        6  Port Elizabeth      ZA     77.00           clear sky -33.9180   \n",
       "\n",
       "       Lng                      Hotel Name  \n",
       "0  65.4167                 Dil Aram Bangla  \n",
       "1  54.3671                  Nebitchi Hotel  \n",
       "2 -79.2353  Hampton Inn & Suites Jamestown  \n",
       "3 -82.5001                 Sportsmens Cove  \n",
       "4  25.5701          39 On Nile Guest House  "
      ],
      "text/html": "<div>\n<style scoped>\n    .dataframe tbody tr th:only-of-type {\n        vertical-align: middle;\n    }\n\n    .dataframe tbody tr th {\n        vertical-align: top;\n    }\n\n    .dataframe thead th {\n        text-align: right;\n    }\n</style>\n<table border=\"1\" class=\"dataframe\">\n  <thead>\n    <tr style=\"text-align: right;\">\n      <th></th>\n      <th>City_ID</th>\n      <th>City</th>\n      <th>Country</th>\n      <th>Max Temp</th>\n      <th>Current Description</th>\n      <th>Lat</th>\n      <th>Lng</th>\n      <th>Hotel Name</th>\n    </tr>\n  </thead>\n  <tbody>\n    <tr>\n      <th>0</th>\n      <td>2</td>\n      <td>Kharan</td>\n      <td>PK</td>\n      <td>76.15</td>\n      <td>clear sky</td>\n      <td>28.5833</td>\n      <td>65.4167</td>\n      <td>Dil Aram Bangla</td>\n    </tr>\n    <tr>\n      <th>1</th>\n      <td>3</td>\n      <td>Balkanabat</td>\n      <td>TM</td>\n      <td>59.16</td>\n      <td>few clouds</td>\n      <td>39.5108</td>\n      <td>54.3671</td>\n      <td>Nebitchi Hotel</td>\n    </tr>\n    <tr>\n      <th>2</th>\n      <td>4</td>\n      <td>Jamestown</td>\n      <td>US</td>\n      <td>57.99</td>\n      <td>clear sky</td>\n      <td>42.0970</td>\n      <td>-79.2353</td>\n      <td>Hampton Inn &amp; Suites Jamestown</td>\n    </tr>\n    <tr>\n      <th>3</th>\n      <td>5</td>\n      <td>Florida</td>\n      <td>US</td>\n      <td>79.00</td>\n      <td>scattered clouds</td>\n      <td>28.7505</td>\n      <td>-82.5001</td>\n      <td>Sportsmens Cove</td>\n    </tr>\n    <tr>\n      <th>4</th>\n      <td>6</td>\n      <td>Port Elizabeth</td>\n      <td>ZA</td>\n      <td>77.00</td>\n      <td>clear sky</td>\n      <td>-33.9180</td>\n      <td>25.5701</td>\n      <td>39 On Nile Guest House</td>\n    </tr>\n  </tbody>\n</table>\n</div>"
     },
     "metadata": {},
     "execution_count": 6
    }
   ],
   "source": [
    "# 1. Read the WeatherPy_vacation.csv into a DataFrame.\n",
    "vacation_df = pd.read_csv(\"../Vacation_Search/WeatherPy_vacation.csv\")\n",
    "vacation_df.head()"
   ]
  },
  {
   "cell_type": "code",
   "execution_count": 9,
   "metadata": {},
   "outputs": [],
   "source": [
    "# 2. Using the template add the city name, the country code, the weather description and maximum temperature for the city.\n",
    "info_box_template = \"\"\"\n",
    "<dl>\n",
    "<dt>City</dt><dd>{City}</dd>\n",
    "<dt>Country</dt><dd>{Country}</dd>\n",
    "<dt>Max Temp</dt><dd>{Max Temp} °F</dd>\n",
    "<dt>Weather Description</dt><dd>{Current Description}</dd>\n",
    "</dl>\n",
    "\"\"\"\n",
    "\n",
    "# 3a. Get the data from each row and add it to the formatting template and store the data in a list.\n",
    "vacation_info = [info_box_template.format(**row) for index, row in vacation_df.iterrows()]\n",
    "\n",
    "# 3b. Get the latitude and longitude from each row and store in a new DataFrame.\n",
    "locations = vacation_df[[\"Lat\", \"Lng\"]]"
   ]
  },
  {
   "cell_type": "code",
   "execution_count": 11,
   "metadata": {},
   "outputs": [
    {
     "output_type": "display_data",
     "data": {
      "text/plain": "Figure(layout=FigureLayout(height='420px'))",
      "application/vnd.jupyter.widget-view+json": {
       "version_major": 2,
       "version_minor": 0,
       "model_id": "8280b0fec0c2499c8af0baf32c2dfb64"
      }
     },
     "metadata": {}
    }
   ],
   "source": [
    "# 4a. Add a marker layer for each city to the map.\n",
    "fig = gmaps.figure(center=(30.0, 31.0), zoom_level=2)\n",
    "marker_layer = gmaps.marker_layer(locations, info_box_content=vacation_info)\n",
    "fig.add_layer(marker_layer)\n",
    "# 4b. Display the figure\n",
    "fig\n"
   ]
  },
  {
   "cell_type": "code",
   "execution_count": 21,
   "metadata": {},
   "outputs": [
    {
     "output_type": "execute_result",
     "data": {
      "text/plain": [
       "     City_ID     City Country  Max Temp Current Description      Lat     Lng  \\\n",
       "328      596  Requena      ES      70.0       broken clouds  39.4883 -1.1004   \n",
       "\n",
       "        Hotel Name  \n",
       "328  Hotel Avenida  "
      ],
      "text/html": "<div>\n<style scoped>\n    .dataframe tbody tr th:only-of-type {\n        vertical-align: middle;\n    }\n\n    .dataframe tbody tr th {\n        vertical-align: top;\n    }\n\n    .dataframe thead th {\n        text-align: right;\n    }\n</style>\n<table border=\"1\" class=\"dataframe\">\n  <thead>\n    <tr style=\"text-align: right;\">\n      <th></th>\n      <th>City_ID</th>\n      <th>City</th>\n      <th>Country</th>\n      <th>Max Temp</th>\n      <th>Current Description</th>\n      <th>Lat</th>\n      <th>Lng</th>\n      <th>Hotel Name</th>\n    </tr>\n  </thead>\n  <tbody>\n    <tr>\n      <th>328</th>\n      <td>596</td>\n      <td>Requena</td>\n      <td>ES</td>\n      <td>70.0</td>\n      <td>broken clouds</td>\n      <td>39.4883</td>\n      <td>-1.1004</td>\n      <td>Hotel Avenida</td>\n    </tr>\n  </tbody>\n</table>\n</div>"
     },
     "metadata": {},
     "execution_count": 21
    }
   ],
   "source": [
    "# From the map above pick 4 cities and create a vacation itinerary route to travel between the four cities. \n",
    "# 5. Create DataFrames for each city by filtering the 'vacation_df' using the loc method. \n",
    "# Hint: The starting and ending city should be the same city.\n",
    "\n",
    "vacation_start = vacation_df.loc[vacation_df[\"City\"] == \"Requena\"]\n",
    "vacation_end = vacation_df.loc[vacation_df[\"City\"] == \"Requena\"]\n",
    "vacation_stop1 = vacation_df.loc[vacation_df[\"City\"] == \"Aras\"]\n",
    "vacation_stop2 = vacation_df.loc[vacation_df[\"City\"] == \"Llanes\"] \n",
    "vacation_stop3 = vacation_df.loc[vacation_df[\"City\"] == \"Muros\"] \n",
    "vacation_start"
   ]
  },
  {
   "cell_type": "code",
   "execution_count": 49,
   "metadata": {},
   "outputs": [],
   "source": [
    "# 6. Get the latitude-longitude pairs as tuples from each city DataFrame using the to_numpy function and list indexing.\n",
    "start = tuple(vacation_start[['Lat', 'Lng']].to_numpy()[0])\n",
    "end = tuple(vacation_end[['Lat', 'Lng']].to_numpy()[0])\n",
    "stop1 = tuple(vacation_stop1[['Lat', 'Lng']].to_numpy()[0])\n",
    "stop2 = tuple(vacation_stop2[['Lat', 'Lng']].to_numpy()[0])\n",
    "stop3 = tuple(vacation_stop3[['Lat', 'Lng']].to_numpy()[0])"
   ]
  },
  {
   "cell_type": "code",
   "execution_count": 56,
   "metadata": {
    "scrolled": true
   },
   "outputs": [
    {
     "output_type": "display_data",
     "data": {
      "text/plain": "Figure(layout=FigureLayout(height='420px'))",
      "application/vnd.jupyter.widget-view+json": {
       "version_major": 2,
       "version_minor": 0,
       "model_id": "ce028bf81a424ec592bfa48a1883511b"
      }
     },
     "metadata": {}
    }
   ],
   "source": [
    "# 7. Create a direction layer map using the start and end latitude-longitude pairs,\n",
    "# and stop1, stop2, and stop3 as the waypoints. The travel_mode should be \"DRIVING\", \"BICYCLING\", or \"WALKING\".\n",
    "start_end = gmaps.directions_layer(start, end, waypoints=[stop1, stop2, stop3], travel_mode=\"DRIVING\")\n",
    "\n",
    "fig = gmaps.figure()\n",
    "fig.add_layer(start_end)\n",
    "fig"
   ]
  },
  {
   "cell_type": "code",
   "execution_count": 58,
   "metadata": {},
   "outputs": [
    {
     "output_type": "execute_result",
     "data": {
      "text/plain": [
       "   City_ID     City Country  Max Temp Current Description      Lat     Lng  \\\n",
       "0      596  Requena      ES     70.00       broken clouds  39.4883 -1.1004   \n",
       "1      299     Aras      ES     73.99           clear sky  42.5617 -2.3560   \n",
       "2      557   Llanes      ES     81.00       broken clouds  43.4198 -4.7549   \n",
       "3       73    Muros      ES     72.00       broken clouds  42.7762 -9.0603   \n",
       "\n",
       "               Hotel Name  \n",
       "0           Hotel Avenida  \n",
       "1   Jardines de Viana Spa  \n",
       "2            Hotel La Paz  \n",
       "3  Apartment Av. Castelao  "
      ],
      "text/html": "<div>\n<style scoped>\n    .dataframe tbody tr th:only-of-type {\n        vertical-align: middle;\n    }\n\n    .dataframe tbody tr th {\n        vertical-align: top;\n    }\n\n    .dataframe thead th {\n        text-align: right;\n    }\n</style>\n<table border=\"1\" class=\"dataframe\">\n  <thead>\n    <tr style=\"text-align: right;\">\n      <th></th>\n      <th>City_ID</th>\n      <th>City</th>\n      <th>Country</th>\n      <th>Max Temp</th>\n      <th>Current Description</th>\n      <th>Lat</th>\n      <th>Lng</th>\n      <th>Hotel Name</th>\n    </tr>\n  </thead>\n  <tbody>\n    <tr>\n      <th>0</th>\n      <td>596</td>\n      <td>Requena</td>\n      <td>ES</td>\n      <td>70.00</td>\n      <td>broken clouds</td>\n      <td>39.4883</td>\n      <td>-1.1004</td>\n      <td>Hotel Avenida</td>\n    </tr>\n    <tr>\n      <th>1</th>\n      <td>299</td>\n      <td>Aras</td>\n      <td>ES</td>\n      <td>73.99</td>\n      <td>clear sky</td>\n      <td>42.5617</td>\n      <td>-2.3560</td>\n      <td>Jardines de Viana Spa</td>\n    </tr>\n    <tr>\n      <th>2</th>\n      <td>557</td>\n      <td>Llanes</td>\n      <td>ES</td>\n      <td>81.00</td>\n      <td>broken clouds</td>\n      <td>43.4198</td>\n      <td>-4.7549</td>\n      <td>Hotel La Paz</td>\n    </tr>\n    <tr>\n      <th>3</th>\n      <td>73</td>\n      <td>Muros</td>\n      <td>ES</td>\n      <td>72.00</td>\n      <td>broken clouds</td>\n      <td>42.7762</td>\n      <td>-9.0603</td>\n      <td>Apartment Av. Castelao</td>\n    </tr>\n  </tbody>\n</table>\n</div>"
     },
     "metadata": {},
     "execution_count": 58
    }
   ],
   "source": [
    "# 8. To create a marker layer map between the four cities.\n",
    "#  Combine the four city DataFrames into one DataFrame using the concat() function.\n",
    "itinerary_df = pd.concat([vacation_start, vacation_stop1, vacation_stop2, vacation_stop3],ignore_index=True)\n",
    "itinerary_df"
   ]
  },
  {
   "cell_type": "code",
   "execution_count": 72,
   "metadata": {},
   "outputs": [],
   "source": [
    "# 9 Using the template add city name, the country code, the weather description and maximum temperature for the city. \n",
    "info_box_template = \"\"\"\n",
    "<dl>\n",
    "<dt><b>Hotel Name</b></dt><dd>{Hotel Name}</dd>\n",
    "<dt><b>City</b></dt><dd>{City}</dd>\n",
    "<dt><b>Country</b></dt><dd>{Country}</dd>\n",
    "<dt><b>Weather Description</b></dt><dd>{Current Description} and {Max Temp} °F</dd>\n",
    "</dl>\n",
    "\"\"\"\n",
    "\n",
    "# 10a Get the data from each row and add it to the formatting template and store the data in a list.\n",
    "hotel_info = [info_box_template.format(**row) for index, row in itinerary_df.iterrows()]\n",
    "\n",
    "# 10b. Get the latitude and longitude from each row and store in a new DataFrame.\n",
    "locations = itinerary_df[[\"Lat\", \"Lng\"]]"
   ]
  },
  {
   "cell_type": "code",
   "execution_count": 73,
   "metadata": {},
   "outputs": [
    {
     "output_type": "display_data",
     "data": {
      "text/plain": "Figure(layout=FigureLayout(height='420px'))",
      "application/vnd.jupyter.widget-view+json": {
       "version_major": 2,
       "version_minor": 0,
       "model_id": "2c922aa738074425ba65b843d80e1290"
      }
     },
     "metadata": {}
    }
   ],
   "source": [
    "# 11a. Add a marker layer for each city to the map.\n",
    "marker_layer = gmaps.marker_layer(locations, info_box_content=hotel_info)\n",
    "# 11b. Display the figure\n",
    "fig = gmaps.figure(center=(30.0, 31.0), zoom_level=2)\n",
    "fig.add_layer(marker_layer)\n",
    "fig\n"
   ]
  },
  {
   "cell_type": "code",
   "execution_count": null,
   "metadata": {},
   "outputs": [],
   "source": []
  }
 ],
 "metadata": {
  "kernelspec": {
   "display_name": "PythonData",
   "language": "python",
   "name": "pythondata"
  },
  "language_info": {
   "codemirror_mode": {
    "name": "ipython",
    "version": 3
   },
   "file_extension": ".py",
   "mimetype": "text/x-python",
   "name": "python",
   "nbconvert_exporter": "python",
   "pygments_lexer": "ipython3",
   "version": "3.7.9"
  },
  "latex_envs": {
   "LaTeX_envs_menu_present": true,
   "autoclose": false,
   "autocomplete": true,
   "bibliofile": "biblio.bib",
   "cite_by": "apalike",
   "current_citInitial": 1,
   "eqLabelWithNumbers": true,
   "eqNumInitial": 1,
   "hotkeys": {
    "equation": "Ctrl-E",
    "itemize": "Ctrl-I"
   },
   "labels_anchors": false,
   "latex_user_defs": false,
   "report_style_numbering": false,
   "user_envs_cfg": false
  }
 },
 "nbformat": 4,
 "nbformat_minor": 2
}